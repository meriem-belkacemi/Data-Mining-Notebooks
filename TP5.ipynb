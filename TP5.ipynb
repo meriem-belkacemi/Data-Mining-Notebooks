{
 "cells": [
  {
   "cell_type": "code",
   "execution_count": 117,
   "metadata": {},
   "outputs": [],
   "source": [
    "import numpy as np\n",
    "import pandas as pd\n",
    "import matplotlib.pyplot as plt\n",
    "import math\n",
    "from collections import Counter"
   ]
  },
  {
   "cell_type": "code",
   "execution_count": 118,
   "metadata": {},
   "outputs": [],
   "source": [
    "file = \"Exo1.xlsx\"\n",
    "dataset = pd.read_excel(file)\n"
   ]
  },
  {
   "cell_type": "code",
   "execution_count": 119,
   "metadata": {},
   "outputs": [
    {
     "name": "stdout",
     "output_type": "stream",
     "text": [
      "   petal length  petal width  sepal length  sepal width        Class\n",
      "0           5.1          3.5           1.4          0.2  Iris-setosa\n",
      "1           4.9          3.0           1.4          0.2  Iris-setosa\n",
      "2           4.7          3.2           1.3          0.2  Iris-setosa\n",
      "3           4.6          3.1           1.5          0.2  Iris-setosa\n",
      "4           5.0          3.6           1.4          0.2  Iris-setosa\n",
      "Nombre de lignes du dataset : 150\n",
      "Nombre de colonnes du dataset :  5\n",
      "Noms des colonnes :  ['petal length', 'petal width', 'sepal length', 'sepal width', 'Class']\n"
     ]
    }
   ],
   "source": [
    "def visualize_data (dataset) :\n",
    "    print(dataset.head())\n",
    "    print (\"Nombre de lignes du dataset :\", dataset.shape[0])\n",
    "    print(\"Nombre de colonnes du dataset : \", dataset.shape[1])\n",
    "    print(\"Noms des colonnes : \", dataset.columns.tolist())\n",
    "\n",
    "visualize_data(dataset)"
   ]
  },
  {
   "cell_type": "code",
   "execution_count": 120,
   "metadata": {},
   "outputs": [],
   "source": [
    "def manhattan_distance(point1, point2):\n",
    "    if len(point1) != len(point2):\n",
    "        raise ValueError(\"Les points doivent être de même dimension\")\n",
    "    return sum([abs(x - y) for x, y in zip(point1, point2)])"
   ]
  },
  {
   "cell_type": "code",
   "execution_count": 121,
   "metadata": {},
   "outputs": [
    {
     "data": {
      "text/plain": [
       "0.6999999999999993"
      ]
     },
     "execution_count": 121,
     "metadata": {},
     "output_type": "execute_result"
    }
   ],
   "source": [
    "dist = manhattan_distance(dataset.iloc[0, [0,1,2,3]].values, dataset.iloc[1, [0,1,2,3]].values)\n",
    "dist"
   ]
  },
  {
   "cell_type": "code",
   "execution_count": 122,
   "metadata": {},
   "outputs": [],
   "source": [
    "def euclidean_distance( point1, point2):\n",
    "    if len(point1) != len(point2):\n",
    "        raise ValueError(\"Les points doivent être de même dimension\")\n",
    "    return math.sqrt(sum([(x - y) ** 2 for x, y in zip(point1, point2)]))"
   ]
  },
  {
   "cell_type": "code",
   "execution_count": 123,
   "metadata": {},
   "outputs": [
    {
     "data": {
      "text/plain": [
       "0.5385164807134502"
      ]
     },
     "execution_count": 123,
     "metadata": {},
     "output_type": "execute_result"
    }
   ],
   "source": [
    "dist = euclidean_distance(dataset.iloc[0, [0,1,2,3]].values, dataset.iloc[1, [0,1,2,3]].values)\n",
    "dist"
   ]
  },
  {
   "cell_type": "code",
   "execution_count": 124,
   "metadata": {},
   "outputs": [],
   "source": [
    "def minkowski_distance(dataset, attribut1, attribut2, p):\n",
    "    if len(dataset[attribut1]) != len(dataset[attribut2]):\n",
    "        raise ValueError(\"Les points doivent être de même dimension\")\n",
    "    return sum(abs(x - y) ** p for x, y in zip(dataset[attribut1], dataset[attribut2])) ** (1 / p)"
   ]
  },
  {
   "cell_type": "code",
   "execution_count": 125,
   "metadata": {},
   "outputs": [
    {
     "data": {
      "text/plain": [
       "36.1792758357599"
      ]
     },
     "execution_count": 125,
     "metadata": {},
     "output_type": "execute_result"
    }
   ],
   "source": [
    "# Avec p = 2 ça devient équivalent a la distance euclidienne\n",
    "dist = minkowski_distance(dataset,'petal length', 'petal width', 2)\n",
    "dist"
   ]
  },
  {
   "cell_type": "code",
   "execution_count": 126,
   "metadata": {},
   "outputs": [
    {
     "data": {
      "text/plain": [
       "418.40000000000003"
      ]
     },
     "execution_count": 126,
     "metadata": {},
     "output_type": "execute_result"
    }
   ],
   "source": [
    "dist = minkowski_distance(dataset,'petal length', 'petal width', 1)\n",
    "dist"
   ]
  },
  {
   "cell_type": "code",
   "execution_count": 127,
   "metadata": {},
   "outputs": [],
   "source": [
    "def sort_dataset_by_distance(dataset, reference_point, distance_function, columns):\n",
    "    distances = dataset[columns].apply(lambda row: distance_function( row.values, reference_point), axis=1)\n",
    "    dataset['Distance'] = distances  # Ajout d'une colonne \"Distance\" pour trier le dataset\n",
    "    sorted_dataset = dataset.sort_values(by='Distance')\n",
    "    return sorted_dataset"
   ]
  },
  {
   "cell_type": "code",
   "execution_count": 128,
   "metadata": {},
   "outputs": [
    {
     "name": "stdout",
     "output_type": "stream",
     "text": [
      "     petal length  petal width  sepal length  sepal width           Class  \\\n",
      "41            4.5          2.3           1.3          0.3     Iris-setosa   \n",
      "13            4.3          3.0           1.1          0.1     Iris-setosa   \n",
      "8             4.4          2.9           1.4          0.2     Iris-setosa   \n",
      "38            4.4          3.0           1.3          0.2     Iris-setosa   \n",
      "42            4.4          3.2           1.3          0.2     Iris-setosa   \n",
      "..            ...          ...           ...          ...             ...   \n",
      "105           7.6          3.0           6.6          2.1  Iris-virginica   \n",
      "122           7.7          2.8           6.7          2.0  Iris-virginica   \n",
      "118           7.7          2.6           6.9          2.3  Iris-virginica   \n",
      "131           7.9          3.8           6.4          2.0  Iris-virginica   \n",
      "117           7.7          3.8           6.7          2.2  Iris-virginica   \n",
      "\n",
      "      Distance  \n",
      "41    5.226854  \n",
      "13    5.358171  \n",
      "8     5.456189  \n",
      "38    5.485435  \n",
      "42    5.597321  \n",
      "..         ...  \n",
      "105  10.711209  \n",
      "122  10.771258  \n",
      "118  10.906420  \n",
      "131  11.036757  \n",
      "117  11.111256  \n",
      "\n",
      "[150 rows x 6 columns]\n"
     ]
    }
   ],
   "source": [
    "# Point de référence\n",
    "point_reference = [0, 0, 0, 0]\n",
    "\n",
    "# Utilisation de la fonction pour trier le dataset selon la distance euclidienne\n",
    "sorted_df = sort_dataset_by_distance(dataset, point_reference, euclidean_distance, columns=['petal length', 'petal width', 'sepal length', 'sepal width'])\n",
    "print(sorted_df)"
   ]
  },
  {
   "cell_type": "code",
   "execution_count": 129,
   "metadata": {},
   "outputs": [],
   "source": [
    "def majority_class(classes):\n",
    "    counter = Counter(classes)\n",
    "    return counter.most_common(1)[0][0]"
   ]
  },
  {
   "cell_type": "code",
   "execution_count": 130,
   "metadata": {},
   "outputs": [],
   "source": [
    "def KNN(dataset, query_point, k, distance_function):\n",
    "    sorted_dataset = sort_dataset_by_distance(dataset, query_point, distance_function, columns=['petal length', 'petal width', 'sepal length', 'sepal width'])\n",
    "    k_nearest_neighbors = sorted_dataset[:k]\n",
    "    classes = [str(instance) for instance in k_nearest_neighbors.iloc[:,[4]].values]  \n",
    "    return majority_class(classes)"
   ]
  },
  {
   "cell_type": "code",
   "execution_count": 131,
   "metadata": {},
   "outputs": [
    {
     "name": "stdout",
     "output_type": "stream",
     "text": [
      "Classe prédite avec K = 3 : ['Iris-setosa']\n",
      "Classe prédite avec K = 5 : ['Iris-setosa']\n"
     ]
    }
   ],
   "source": [
    "instance = [5.2, 3.5, 1.41, 0.25]\n",
    "\n",
    "# Avec K = 3\n",
    "result_K3 = KNN(dataset, instance, k=3, distance_function=euclidean_distance)\n",
    "print(f\"Classe prédite avec K = 3 : {result_K3}\")\n",
    "\n",
    "# Avec K = 5\n",
    "result_K5 = KNN(dataset, instance, k=5, distance_function=euclidean_distance)\n",
    "print(f\"Classe prédite avec K = 5 : {result_K5}\")"
   ]
  },
  {
   "cell_type": "code",
   "execution_count": 132,
   "metadata": {},
   "outputs": [
    {
     "name": "stdout",
     "output_type": "stream",
     "text": [
      "Classe prédite avec K = 5 : ['Iris-setosa']\n"
     ]
    }
   ],
   "source": [
    "# Avec K = 5\n",
    "result_K5 = KNN(dataset, instance, k=5, distance_function=manhattan_distance)\n",
    "print(f\"Classe prédite avec K = 5 : {result_K5}\")"
   ]
  }
 ],
 "metadata": {
  "kernelspec": {
   "display_name": "Python 3",
   "language": "python",
   "name": "python3"
  },
  "language_info": {
   "codemirror_mode": {
    "name": "ipython",
    "version": 3
   },
   "file_extension": ".py",
   "mimetype": "text/x-python",
   "name": "python",
   "nbconvert_exporter": "python",
   "pygments_lexer": "ipython3",
   "version": "3.11.5"
  }
 },
 "nbformat": 4,
 "nbformat_minor": 2
}

{
 "cells": [
  {
   "cell_type": "code",
   "execution_count": 15,
   "metadata": {},
   "outputs": [],
   "source": [
    "import pandas as pd\n",
    "def load_dataset (file):\n",
    "    dataset = pd.read_excel(file)\n",
    "    return dataset\n",
    "\n",
    "path = \"Exo1.xlsx\"\n",
    "dataset = load_dataset(path)\n"
   ]
  },
  {
   "cell_type": "code",
   "execution_count": 17,
   "metadata": {},
   "outputs": [
    {
     "name": "stdout",
     "output_type": "stream",
     "text": [
      "   petal length  petal width  sepal length  sepal width        Class\n",
      "0           5.1          3.5           1.4          0.2  Iris-setosa\n",
      "1           4.9          3.0           1.4          0.2  Iris-setosa\n",
      "2           4.7          3.2           1.3          0.2  Iris-setosa\n",
      "3           4.6          3.1           1.5          0.2  Iris-setosa\n",
      "4           5.0          3.6           1.4          0.2  Iris-setosa\n",
      "Nombre de lignes du dataset : 150\n",
      "Nombre de colonnes du dataset :  5\n",
      "Noms des colonnes :  ['petal length', 'petal width', 'sepal length', 'sepal width', 'Class']\n"
     ]
    }
   ],
   "source": [
    "def visualize_data (dataset) :\n",
    "    print(dataset.head())\n",
    "    print (\"Nombre de lignes du dataset :\", dataset.shape[0])\n",
    "    print(\"Nombre de colonnes du dataset : \", dataset.shape[1])\n",
    "    print(\"Noms des colonnes : \", dataset.columns.tolist())\n",
    "\n",
    "visualize_data(dataset)\n",
    "    "
   ]
  },
  {
   "cell_type": "code",
   "execution_count": 48,
   "metadata": {},
   "outputs": [],
   "source": [
    "def mediane_moyenne (dataset, attribut) :\n",
    "    if attribut not in dataset.columns :\n",
    "        return (\"L'attribut n'existe pas\")\n",
    "    moyenne = dataset[attribut].mean()\n",
    "    mediane = dataset[attribut].median()\n",
    "    mode = dataset[attribut].mode()\n",
    "    \n",
    "    result = {\n",
    "        'Moyenne' : moyenne ,\n",
    "        'mediane': mediane ,\n",
    "        'mode' : mode[0] if not mode.empty else None\n",
    "    }\n",
    "    return result"
   ]
  },
  {
   "cell_type": "code",
   "execution_count": null,
   "metadata": {},
   "outputs": [],
   "source": [
    "def mediane_moyenne_scratch (dataset, attribut) :\n",
    "    if attribut not in dataset.columns :\n",
    "        return (\"L'attribut n'existe pas\")\n",
    "    moyenne = dataset[attribut].sum()/len(dataset)\n",
    "    mediane = dataset[attribut].median()\n",
    "    mode = dataset[attribut].mode()\n",
    "    \n",
    "    result = {\n",
    "        'Moyenne' : moyenne ,\n",
    "        'mediane': mediane ,\n",
    "        'mode' : mode[0] if not mode.empty else None\n",
    "    }\n",
    "    return result"
   ]
  },
  {
   "cell_type": "code",
   "execution_count": 49,
   "metadata": {},
   "outputs": [
    {
     "name": "stdout",
     "output_type": "stream",
     "text": [
      "{'Moyenne': 5.843333333333334, 'mediane': 5.8, 'mode': 5.0}\n"
     ]
    }
   ],
   "source": [
    "result = mediane_moyenne(dataset, \"petal length\")\n",
    "print(result)"
   ]
  },
  {
   "cell_type": "code",
   "execution_count": 34,
   "metadata": {},
   "outputs": [],
   "source": [
    "def quartiles (dataset, attribut) :\n",
    "    q0 = dataset[attribut].min()\n",
    "    q1 = dataset[attribut].quantile(0.25)\n",
    "    q2 = dataset[attribut].median()\n",
    "    q3 = dataset[attribut].quantile(0.75)\n",
    "    q4 = dataset[attribut].max()\n",
    "    \n",
    "    print (\"Q0 = \", q0)\n",
    "    print (\"Q1 = \", q1)\n",
    "    print (\"Q2 = \", q2)\n",
    "    print (\"Q3 = \", q3)\n",
    "    print (\"Q4 = \", q4)"
   ]
  },
  {
   "cell_type": "code",
   "execution_count": null,
   "metadata": {},
   "outputs": [],
   "source": [
    "def quartiles_scratch (dataset, attribut) :\n",
    "    q0 = dataset[attribut].min()\n",
    "    q1 = dataset[attribut].quantile(0.25)\n",
    "    q2 = dataset[attribut].median()\n",
    "    q3 = dataset[attribut].quantile(0.75)\n",
    "    q4 = dataset[attribut].max()\n",
    "    \n",
    "    print (\"Q0 = \", q0)\n",
    "    print (\"Q1 = \", q1)\n",
    "    print (\"Q2 = \", q2)\n",
    "    print (\"Q3 = \", q3)\n",
    "    print (\"Q4 = \", q4)"
   ]
  },
  {
   "cell_type": "code",
   "execution_count": 35,
   "metadata": {},
   "outputs": [
    {
     "name": "stdout",
     "output_type": "stream",
     "text": [
      "Q0 =  4.3\n",
      "Q1 =  5.1\n",
      "Q2 =  5.8\n",
      "Q3 =  6.4\n",
      "Q4 =  7.9\n"
     ]
    }
   ],
   "source": [
    "quartiles(dataset,\"petal length\")"
   ]
  },
  {
   "cell_type": "code",
   "execution_count": 44,
   "metadata": {},
   "outputs": [],
   "source": [
    "def missing_values(dataset,attribut) :\n",
    "    nombre_manq = dataset[attribut].isnull().sum()\n",
    "    pourcentage = nombre_manq / len(dataset) \n",
    "    print(\"Le nombre de valeurs manquantes de l'attribut est : \", nombre_manq)\n",
    "    print(\"Le pourcentage des valeurs manquantes de l'attribut est : \", pourcentage)"
   ]
  },
  {
   "cell_type": "code",
   "execution_count": 45,
   "metadata": {},
   "outputs": [
    {
     "name": "stdout",
     "output_type": "stream",
     "text": [
      "Le nombre de valeurs manquantes de l'attribut est :  0\n",
      "Le pourcentage des valeurs manquantes de l'attribut est :  0.0\n"
     ]
    }
   ],
   "source": [
    "missing_values(dataset,\"petal length\")"
   ]
  }
 ],
 "metadata": {
  "kernelspec": {
   "display_name": "Python 3",
   "language": "python",
   "name": "python3"
  },
  "language_info": {
   "codemirror_mode": {
    "name": "ipython",
    "version": 3
   },
   "file_extension": ".py",
   "mimetype": "text/x-python",
   "name": "python",
   "nbconvert_exporter": "python",
   "pygments_lexer": "ipython3",
   "version": "3.11.5"
  },
  "orig_nbformat": 4
 },
 "nbformat": 4,
 "nbformat_minor": 2
}
